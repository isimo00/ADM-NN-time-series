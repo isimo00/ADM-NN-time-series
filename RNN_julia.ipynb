{
 "cells": [
  {
   "cell_type": "code",
   "execution_count": 1,
   "id": "f4272bdb",
   "metadata": {},
   "outputs": [],
   "source": [
    "using Flux, Plots, Statistics, MLDatasets, Images, TimeSeries"
   ]
  },
  {
   "cell_type": "code",
   "execution_count": 3,
   "id": "434b560f",
   "metadata": {},
   "outputs": [
    {
     "data": {
      "text/plain": [
       "3201-element Vector{Float64}:\n",
       "   548.85\n",
       "   572.15\n",
       "   618.37\n",
       "   659.6\n",
       "   636.41\n",
       "   670.51\n",
       "   665.87\n",
       "   602.36\n",
       "   610.65\n",
       "   628.44\n",
       "   624.95\n",
       "   653.65\n",
       "   662.71\n",
       "     ⋮\n",
       "  9587.77\n",
       "  9694.01\n",
       "  9823.88\n",
       "  9501.23\n",
       "  9824.26\n",
       "  9746.74\n",
       "  9956.69\n",
       "  9995.72\n",
       " 10036.76\n",
       " 10445.96\n",
       " 10980.4\n",
       " 11081.78"
      ]
     },
     "execution_count": 3,
     "metadata": {},
     "output_type": "execute_result"
    }
   ],
   "source": [
    "using CSV, DataFrames\n",
    "df = CSV.read(\"BAJAJFINSV.csv\", DataFrame)\n",
    "vwap = df.VWAP"
   ]
  },
  {
   "cell_type": "code",
   "execution_count": 28,
   "id": "a0759ca1",
   "metadata": {},
   "outputs": [
    {
     "data": {
      "text/plain": [
       "3201"
      ]
     },
     "execution_count": 28,
     "metadata": {},
     "output_type": "execute_result"
    }
   ],
   "source": [
    "x=df.VWAP[:,1] # convert to Float32 if possible\n",
    "N=length(df.VWAP[:,1])\n",
    "size(x,1)"
   ]
  },
  {
   "cell_type": "code",
   "execution_count": 25,
   "id": "b0a98136",
   "metadata": {},
   "outputs": [
    {
     "ename": "LoadError",
     "evalue": "DimensionMismatch(\"layer LSTMCell(3201 => 10) expects size(input, 1) == 3201, but got 1-element Vector{Float32}\")",
     "output_type": "error",
     "traceback": [
      "DimensionMismatch(\"layer LSTMCell(3201 => 10) expects size(input, 1) == 3201, but got 1-element Vector{Float32}\")",
      "",
      "Stacktrace:",
      "  [1] _size_check(layer::Flux.LSTMCell{Matrix{Float32}, Matrix{Float32}, Vector{Float32}, Tuple{Matrix{Float32}, Matrix{Float32}}}, x::Vector{Float32}, ::Pair{Int64, Int64})",
      "    @ Flux ~/.julia/packages/Flux/uCLgc/src/layers/basic.jl:195",
      "  [2] (::Flux.LSTMCell{Matrix{Float32}, Matrix{Float32}, Vector{Float32}, Tuple{Matrix{Float32}, Matrix{Float32}}})(::Tuple{Matrix{Float32}, Matrix{Float32}}, x::Vector{Float32})",
      "    @ Flux ~/.julia/packages/Flux/uCLgc/src/layers/recurrent.jl:311",
      "  [3] Recur",
      "    @ ~/.julia/packages/Flux/uCLgc/src/layers/recurrent.jl:134 [inlined]",
      "  [4] macro expansion",
      "    @ ~/.julia/packages/Flux/uCLgc/src/layers/basic.jl:53 [inlined]",
      "  [5] _applychain",
      "    @ ~/.julia/packages/Flux/uCLgc/src/layers/basic.jl:53 [inlined]",
      "  [6] Chain",
      "    @ ~/.julia/packages/Flux/uCLgc/src/layers/basic.jl:51 [inlined]",
      "  [7] macro expansion",
      "    @ ~/.julia/packages/Flux/uCLgc/src/layers/basic.jl:53 [inlined]",
      "  [8] _applychain",
      "    @ ~/.julia/packages/Flux/uCLgc/src/layers/basic.jl:53 [inlined]",
      "  [9] (::Chain{Tuple{Chain{Tuple{Flux.Recur{Flux.LSTMCell{Matrix{Float32}, Matrix{Float32}, Vector{Float32}, Tuple{Matrix{Float32}, Matrix{Float32}}}, Tuple{Matrix{Float32}, Matrix{Float32}}}, Dense{typeof(identity), Matrix{Float32}, Vector{Float32}}}}, Chain{Tuple{Flux.Recur{Flux.LSTMCell{Matrix{Float32}, Matrix{Float32}, Vector{Float32}, Tuple{Matrix{Float32}, Matrix{Float32}}}, Tuple{Matrix{Float32}, Matrix{Float32}}}, Dense{typeof(identity), Matrix{Float32}, Vector{Float32}}}}}})(x::Vector{Float64})",
      "    @ Flux ~/.julia/packages/Flux/uCLgc/src/layers/basic.jl:51",
      " [10] top-level scope",
      "    @ In[25]:6"
     ]
    }
   ],
   "source": [
    "m = Flux.Chain(\n",
    "            Chain(\n",
    "                LSTM(N, 10),\n",
    "                Dense(10, 1)),\n",
    "            Chain(Flux.Recur(Flux.LSTMCell(N, 10)), Dense(10, 1)))\n",
    "y = m(x)"
   ]
  },
  {
   "cell_type": "code",
   "execution_count": 31,
   "id": "dc180c24",
   "metadata": {},
   "outputs": [
    {
     "data": {
      "text/plain": [
       "Recur(\n",
       "  RNNCell(2 => 5, tanh),                \u001b[90m# 45 parameters\u001b[39m\n",
       ") \u001b[90m        # Total: 4 trainable arrays, \u001b[39m45 parameters,\n",
       "\u001b[90m          # plus 1 non-trainable, 5 parameters, summarysize \u001b[39m412 bytes."
      ]
     },
     "execution_count": 31,
     "metadata": {},
     "output_type": "execute_result"
    }
   ],
   "source": [
    "RNN(2, 5)  # or equivalently RNN(2 => 5)\n",
    "Flux.Recur(\n",
    "  Flux.RNNCell(2 => 5, tanh),                # 45 parameters\n",
    ")"
   ]
  },
  {
   "cell_type": "code",
   "execution_count": 14,
   "id": "67aa48df",
   "metadata": {},
   "outputs": [
    {
     "data": {
      "text/plain": [
       "loss (generic function with 1 method)"
      ]
     },
     "execution_count": 14,
     "metadata": {},
     "output_type": "execute_result"
    }
   ],
   "source": [
    "function loss(xs, ys)\n",
    "println(size(xs))\n",
    "println(size(ys))\n",
    "l = sum((m(xs)-ys).^2)\n",
    "return l\n",
    "end"
   ]
  },
  {
   "cell_type": "code",
   "execution_count": 15,
   "id": "55e482c8",
   "metadata": {},
   "outputs": [
    {
     "data": {
      "text/plain": [
       "Adam(0.01, (0.9, 0.999), 1.0e-8, IdDict{Any, Any}())"
      ]
     },
     "execution_count": 15,
     "metadata": {},
     "output_type": "execute_result"
    }
   ],
   "source": [
    "opt = ADAM(0.01)"
   ]
  },
  {
   "cell_type": "code",
   "execution_count": 20,
   "id": "26266c77",
   "metadata": {},
   "outputs": [
    {
     "ename": "LoadError",
     "evalue": "UndefVarError: y not defined",
     "output_type": "error",
     "traceback": [
      "UndefVarError: y not defined",
      "",
      "Stacktrace:",
      " [1] top-level scope",
      "   @ show.jl:955"
     ]
    }
   ],
   "source": [
    "evalcb = () → @show loss(df.VWAP, y)"
   ]
  }
 ],
 "metadata": {
  "kernelspec": {
   "display_name": "Julia 1.6.7",
   "language": "julia",
   "name": "julia-1.6"
  },
  "language_info": {
   "file_extension": ".jl",
   "mimetype": "application/julia",
   "name": "julia",
   "version": "1.6.7"
  }
 },
 "nbformat": 4,
 "nbformat_minor": 5
}
