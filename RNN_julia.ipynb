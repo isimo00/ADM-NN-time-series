{
 "cells": [
  {
   "cell_type": "code",
   "execution_count": 1,
   "id": "f4272bdb",
   "metadata": {},
   "outputs": [],
   "source": [
    "using Flux, Plots, Statistics, MLDatasets, Images, TimeSeries, CSV, DataFrames"
   ]
  },
  {
   "cell_type": "code",
   "execution_count": 2,
   "id": "434b560f",
   "metadata": {},
   "outputs": [
    {
     "data": {
      "text/plain": [
       "3201-element Vector{Float64}:\n",
       "   548.85\n",
       "   572.15\n",
       "   618.37\n",
       "   659.6\n",
       "   636.41\n",
       "   670.51\n",
       "   665.87\n",
       "   602.36\n",
       "   610.65\n",
       "   628.44\n",
       "   624.95\n",
       "   653.65\n",
       "   662.71\n",
       "     ⋮\n",
       "  9587.77\n",
       "  9694.01\n",
       "  9823.88\n",
       "  9501.23\n",
       "  9824.26\n",
       "  9746.74\n",
       "  9956.69\n",
       "  9995.72\n",
       " 10036.76\n",
       " 10445.96\n",
       " 10980.4\n",
       " 11081.78"
      ]
     },
     "execution_count": 2,
     "metadata": {},
     "output_type": "execute_result"
    }
   ],
   "source": [
    "df = CSV.read(\"BAJAJFINSV.csv\", DataFrame)\n",
    "# vwap = df.VWAP"
   ]
  },
  {
   "cell_type": "code",
   "execution_count": 14,
   "id": "a0759ca1",
   "metadata": {},
   "outputs": [
    {
     "data": {
      "text/plain": [
       "3201"
      ]
     },
     "execution_count": 14,
     "metadata": {},
     "output_type": "execute_result"
    }
   ],
   "source": [
    "x=df.VWAP[:,1] # convert to Float32 if possible\n",
    "N=length(df.VWAP[:,1])\n",
    "size(x,1)\n",
    "N"
   ]
  },
  {
   "cell_type": "code",
   "execution_count": 4,
   "id": "b0a98136",
   "metadata": {},
   "outputs": [
    {
     "name": "stderr",
     "output_type": "stream",
     "text": [
      "\u001b[33m\u001b[1m┌ \u001b[22m\u001b[39m\u001b[33m\u001b[1mWarning: \u001b[22m\u001b[39mLayer with Float32 parameters got Float64 input.\n",
      "\u001b[33m\u001b[1m│ \u001b[22m\u001b[39m  The input will be converted, but any earlier layers may be very slow.\n",
      "\u001b[33m\u001b[1m│ \u001b[22m\u001b[39m  layer = LSTMCell(3201 => 10)\n",
      "\u001b[33m\u001b[1m│ \u001b[22m\u001b[39m  summary(x) = \"3201-element Vector{Float64}\"\n",
      "\u001b[33m\u001b[1m└ \u001b[22m\u001b[39m\u001b[90m@ Flux ~/.julia/packages/Flux/uCLgc/src/layers/stateless.jl:50\u001b[39m\n"
     ]
    },
    {
     "ename": "LoadError",
     "evalue": "DimensionMismatch(\"layer LSTMCell(3201 => 10) expects size(input, 1) == 3201, but got 1-element Vector{Float32}\")",
     "output_type": "error",
     "traceback": [
      "DimensionMismatch(\"layer LSTMCell(3201 => 10) expects size(input, 1) == 3201, but got 1-element Vector{Float32}\")",
      "",
      "Stacktrace:",
      "  [1] _size_check(layer::Flux.LSTMCell{Matrix{Float32}, Matrix{Float32}, Vector{Float32}, Tuple{Matrix{Float32}, Matrix{Float32}}}, x::Vector{Float32}, ::Pair{Int64, Int64})",
      "    @ Flux ~/.julia/packages/Flux/uCLgc/src/layers/basic.jl:195",
      "  [2] (::Flux.LSTMCell{Matrix{Float32}, Matrix{Float32}, Vector{Float32}, Tuple{Matrix{Float32}, Matrix{Float32}}})(::Tuple{Matrix{Float32}, Matrix{Float32}}, x::Vector{Float32})",
      "    @ Flux ~/.julia/packages/Flux/uCLgc/src/layers/recurrent.jl:311",
      "  [3] Recur",
      "    @ ~/.julia/packages/Flux/uCLgc/src/layers/recurrent.jl:134 [inlined]",
      "  [4] macro expansion",
      "    @ ~/.julia/packages/Flux/uCLgc/src/layers/basic.jl:53 [inlined]",
      "  [5] _applychain",
      "    @ ~/.julia/packages/Flux/uCLgc/src/layers/basic.jl:53 [inlined]",
      "  [6] Chain",
      "    @ ~/.julia/packages/Flux/uCLgc/src/layers/basic.jl:51 [inlined]",
      "  [7] macro expansion",
      "    @ ~/.julia/packages/Flux/uCLgc/src/layers/basic.jl:53 [inlined]",
      "  [8] _applychain",
      "    @ ~/.julia/packages/Flux/uCLgc/src/layers/basic.jl:53 [inlined]",
      "  [9] (::Chain{Tuple{Chain{Tuple{Flux.Recur{Flux.LSTMCell{Matrix{Float32}, Matrix{Float32}, Vector{Float32}, Tuple{Matrix{Float32}, Matrix{Float32}}}, Tuple{Matrix{Float32}, Matrix{Float32}}}, Dense{typeof(identity), Matrix{Float32}, Vector{Float32}}}}, Chain{Tuple{Flux.Recur{Flux.LSTMCell{Matrix{Float32}, Matrix{Float32}, Vector{Float32}, Tuple{Matrix{Float32}, Matrix{Float32}}}, Tuple{Matrix{Float32}, Matrix{Float32}}}, Dense{typeof(identity), Matrix{Float32}, Vector{Float32}}}}}})(x::Vector{Float64})",
      "    @ Flux ~/.julia/packages/Flux/uCLgc/src/layers/basic.jl:51",
      " [10] top-level scope",
      "    @ In[4]:6"
     ]
    }
   ],
   "source": [
    "# Do not run\n",
    "m = Flux.Chain(\n",
    "            Chain(\n",
    "                LSTM(N, 10),\n",
    "                Dense(10, 1)),\n",
    "            Chain(Flux.Recur(Flux.LSTMCell(N, 10)), Dense(10, 1)))\n",
    "y = m(x)"
   ]
  },
  {
   "cell_type": "code",
   "execution_count": 25,
   "id": "dc180c24",
   "metadata": {},
   "outputs": [
    {
     "ename": "LoadError",
     "evalue": "syntax: { } vector syntax is discontinued around In[25]:6",
     "output_type": "error",
     "traceback": [
      "syntax: { } vector syntax is discontinued around In[25]:6",
      "",
      "Stacktrace:",
      " [1] top-level scope",
      "   @ In[25]:6"
     ]
    }
   ],
   "source": [
    "n = RNN(2, 5)  # or equivalently RNN(2 => 5)\n",
    "Flux.Recur(\n",
    "  Flux.RNNCell(2 => 5, tanh),                # 45 parameters\n",
    ")\n",
    "\n",
    "n({1, 2})"
   ]
  },
  {
   "cell_type": "code",
   "execution_count": 22,
   "id": "24b48e08",
   "metadata": {},
   "outputs": [
    {
     "data": {
      "text/plain": [
       "Chain(\n",
       "  Recur(\n",
       "    RNNCell(2 => 5, tanh),              \u001b[90m# 45 parameters\u001b[39m\n",
       "  ),\n",
       "  Dense(5 => 1),                        \u001b[90m# 6 parameters\u001b[39m\n",
       ") \u001b[90m        # Total: 6 trainable arrays, \u001b[39m51 parameters,\n",
       "\u001b[90m          # plus 1 non-trainable, 5 parameters, summarysize \u001b[39m580 bytes."
      ]
     },
     "execution_count": 22,
     "metadata": {},
     "output_type": "execute_result"
    }
   ],
   "source": [
    "m = Chain(Flux.RNN(1 => 5), Dense(5 => 1))\n",
    "Chain(\n",
    "  Flux.Recur(\n",
    "    Flux.RNNCell(2 => 5, tanh),              # 45 parameters\n",
    "  ),\n",
    "  Dense(5 => 1),                        # 6 parameters\n",
    ")\n",
    "#y = m(x)"
   ]
  },
  {
   "cell_type": "code",
   "execution_count": 17,
   "id": "67aa48df",
   "metadata": {},
   "outputs": [
    {
     "name": "stdout",
     "output_type": "stream",
     "text": [
      "(3201,)\n",
      "(1,)\n"
     ]
    },
    {
     "data": {
      "text/plain": [
       "0.0f0"
      ]
     },
     "execution_count": 17,
     "metadata": {},
     "output_type": "execute_result"
    }
   ],
   "source": [
    "function loss(xs, ys)\n",
    "println(size(xs))\n",
    "println(size(ys))\n",
    "l = sum((m(xs)-ys).^2)\n",
    "return l\n",
    "end\n",
    "\n"
   ]
  },
  {
   "cell_type": "code",
   "execution_count": 23,
   "id": "9dc99dee",
   "metadata": {},
   "outputs": [
    {
     "ename": "LoadError",
     "evalue": "MethodError: no method matching (::Flux.RNNCell{typeof(tanh), Matrix{Float32}, Matrix{Float32}, Vector{Float32}, Matrix{Float32}})(::Matrix{Float32}, ::Float64)\n\u001b[0mClosest candidates are:\n\u001b[0m  (::Flux.RNNCell{F, I, H, V, var\"#s486\"} where var\"#s486\"<:AbstractMatrix{T})(::Any, \u001b[91m::Union{OneHotArrays.OneHotArray, AbstractVecOrMat{var\"#s485\"} where var\"#s485\"<:AbstractFloat}\u001b[39m) where {F, I, H, V, T} at /Users/irene/.julia/packages/Flux/uCLgc/src/layers/recurrent.jl:203",
     "output_type": "error",
     "traceback": [
      "MethodError: no method matching (::Flux.RNNCell{typeof(tanh), Matrix{Float32}, Matrix{Float32}, Vector{Float32}, Matrix{Float32}})(::Matrix{Float32}, ::Float64)\n\u001b[0mClosest candidates are:\n\u001b[0m  (::Flux.RNNCell{F, I, H, V, var\"#s486\"} where var\"#s486\"<:AbstractMatrix{T})(::Any, \u001b[91m::Union{OneHotArrays.OneHotArray, AbstractVecOrMat{var\"#s485\"} where var\"#s485\"<:AbstractFloat}\u001b[39m) where {F, I, H, V, T} at /Users/irene/.julia/packages/Flux/uCLgc/src/layers/recurrent.jl:203",
      "",
      "Stacktrace:",
      " [1] (::Flux.Recur{Flux.RNNCell{typeof(tanh), Matrix{Float32}, Matrix{Float32}, Vector{Float32}, Matrix{Float32}}, Matrix{Float32}})(x::Float64)",
      "   @ Flux ~/.julia/packages/Flux/uCLgc/src/layers/recurrent.jl:134",
      " [2] macro expansion",
      "   @ ~/.julia/packages/Flux/uCLgc/src/layers/basic.jl:53 [inlined]",
      " [3] _applychain(layers::Tuple{Flux.Recur{Flux.RNNCell{typeof(tanh), Matrix{Float32}, Matrix{Float32}, Vector{Float32}, Matrix{Float32}}, Matrix{Float32}}, Dense{typeof(identity), Matrix{Float32}, Vector{Float32}}}, x::Float64)",
      "   @ Flux ~/.julia/packages/Flux/uCLgc/src/layers/basic.jl:53",
      " [4] (::Chain{Tuple{Flux.Recur{Flux.RNNCell{typeof(tanh), Matrix{Float32}, Matrix{Float32}, Vector{Float32}, Matrix{Float32}}, Matrix{Float32}}, Dense{typeof(identity), Matrix{Float32}, Vector{Float32}}}})(x::Float64)",
      "   @ Flux ~/.julia/packages/Flux/uCLgc/src/layers/basic.jl:51",
      " [5] iterate",
      "   @ ./generator.jl:47 [inlined]",
      " [6] collect(itr::Base.Generator{Vector{Float64}, Chain{Tuple{Flux.Recur{Flux.RNNCell{typeof(tanh), Matrix{Float32}, Matrix{Float32}, Vector{Float32}, Matrix{Float32}}, Matrix{Float32}}, Dense{typeof(identity), Matrix{Float32}, Vector{Float32}}}}})",
      "   @ Base ./array.jl:681",
      " [7] top-level scope",
      "   @ In[23]:1"
     ]
    }
   ],
   "source": [
    "[m(xi) for xi in x]"
   ]
  },
  {
   "cell_type": "code",
   "execution_count": 19,
   "id": "55e482c8",
   "metadata": {},
   "outputs": [
    {
     "ename": "LoadError",
     "evalue": "MethodError: no method matching loss(::Float64)\n\u001b[0mClosest candidates are:\n\u001b[0m  loss(::Any, \u001b[91m::Any\u001b[39m) at In[17]:1",
     "output_type": "error",
     "traceback": [
      "MethodError: no method matching loss(::Float64)\n\u001b[0mClosest candidates are:\n\u001b[0m  loss(::Any, \u001b[91m::Any\u001b[39m) at In[17]:1",
      "",
      "Stacktrace:",
      "  [1] macro expansion",
      "    @ ~/.julia/packages/Zygote/g2w9o/src/compiler/interface2.jl:0 [inlined]",
      "  [2] _pullback(ctx::Zygote.Context{true}, f::typeof(loss), args::Float64)",
      "    @ Zygote ~/.julia/packages/Zygote/g2w9o/src/compiler/interface2.jl:9",
      "  [3] _apply(::Function, ::Vararg{Any, N} where N)",
      "    @ Core ./boot.jl:804",
      "  [4] adjoint",
      "    @ ~/.julia/packages/Zygote/g2w9o/src/lib/lib.jl:203 [inlined]",
      "  [5] _pullback",
      "    @ ~/.julia/packages/ZygoteRules/AIbCs/src/adjoint.jl:65 [inlined]",
      "  [6] _pullback",
      "    @ ~/.julia/packages/Flux/uCLgc/src/optimise/train.jl:143 [inlined]",
      "  [7] _pullback(::Zygote.Context{true}, ::Flux.Optimise.var\"#37#40\"{typeof(loss), Float64})",
      "    @ Zygote ~/.julia/packages/Zygote/g2w9o/src/compiler/interface2.jl:0",
      "  [8] pullback(f::Function, ps::Zygote.Params{Zygote.Buffer{Any, Vector{Any}}})",
      "    @ Zygote ~/.julia/packages/Zygote/g2w9o/src/compiler/interface.jl:384",
      "  [9] withgradient(f::Function, args::Zygote.Params{Zygote.Buffer{Any, Vector{Any}}})",
      "    @ Zygote ~/.julia/packages/Zygote/g2w9o/src/compiler/interface.jl:132",
      " [10] macro expansion",
      "    @ ~/.julia/packages/Flux/uCLgc/src/optimise/train.jl:142 [inlined]",
      " [11] macro expansion",
      "    @ ~/.julia/packages/ProgressLogging/6KXlp/src/ProgressLogging.jl:328 [inlined]",
      " [12] train!(loss::Function, ps::Zygote.Params{Zygote.Buffer{Any, Vector{Any}}}, data::Vector{Float64}, opt::Adam; cb::Flux.Optimise.var\"#38#41\")",
      "    @ Flux.Optimise ~/.julia/packages/Flux/uCLgc/src/optimise/train.jl:140",
      " [13] train!(loss::Function, ps::Zygote.Params{Zygote.Buffer{Any, Vector{Any}}}, data::Vector{Float64}, opt::Adam)",
      "    @ Flux.Optimise ~/.julia/packages/Flux/uCLgc/src/optimise/train.jl:137",
      " [14] top-level scope",
      "    @ In[19]:4"
     ]
    }
   ],
   "source": [
    "opt = ADAM(0.01)\n",
    "ps = Flux.params(m)\n",
    "data = x\n",
    "Flux.train!(loss, ps, data, opt)\n",
    "loss(x, y)"
   ]
  },
  {
   "cell_type": "code",
   "execution_count": 16,
   "id": "26266c77",
   "metadata": {},
   "outputs": [
    {
     "name": "stdout",
     "output_type": "stream",
     "text": [
      "(3201,)\n",
      "(1,)\n",
      "loss(df.VWAP, y) = 0.0f0\n"
     ]
    },
    {
     "ename": "LoadError",
     "evalue": "UndefVarError: → not defined",
     "output_type": "error",
     "traceback": [
      "UndefVarError: → not defined",
      "",
      "Stacktrace:",
      " [1] top-level scope",
      "   @ show.jl:955"
     ]
    }
   ],
   "source": [
    "# evalcb = () → @show loss(df.VWAP, y)"
   ]
  }
 ],
 "metadata": {
  "kernelspec": {
   "display_name": "Julia 1.6.7",
   "language": "julia",
   "name": "julia-1.6"
  },
  "language_info": {
   "file_extension": ".jl",
   "mimetype": "application/julia",
   "name": "julia",
   "version": "1.6.7"
  }
 },
 "nbformat": 4,
 "nbformat_minor": 5
}
