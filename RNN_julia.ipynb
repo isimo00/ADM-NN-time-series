{
 "cells": [
  {
   "cell_type": "code",
   "execution_count": 4,
   "id": "f4272bdb",
   "metadata": {},
   "outputs": [],
   "source": [
    "using Flux, Plots, Statistics, MLDatasets, Images, TimeSeries"
   ]
  },
  {
   "cell_type": "code",
   "execution_count": 7,
   "id": "434b560f",
   "metadata": {},
   "outputs": [
    {
     "data": {
      "text/html": [
       "<div><div style = \"float: left;\"><span>3201×15 DataFrame</span></div><div style = \"float: right;\"><span style = \"font-style: italic;\">3176 rows omitted</span></div><div style = \"clear: both;\"></div></div><div class = \"data-frame\" style = \"overflow-x: scroll;\"><table class = \"data-frame\" style = \"margin-bottom: 6px;\"><thead><tr class = \"header\"><th class = \"rowNumber\" style = \"font-weight: bold; text-align: right;\">Row</th><th style = \"text-align: left;\">Date</th><th style = \"text-align: left;\">Symbol</th><th style = \"text-align: left;\">Series</th><th style = \"text-align: left;\">Prev Close</th><th style = \"text-align: left;\">Open</th><th style = \"text-align: left;\">High</th><th style = \"text-align: left;\">Low</th><th style = \"text-align: left;\">Last</th><th style = \"text-align: left;\">Close</th><th style = \"text-align: left;\">VWAP</th><th style = \"text-align: left;\">Volume</th><th style = \"text-align: left;\">Turnover</th><th style = \"text-align: left;\">Trades</th><th style = \"text-align: left;\">Deliverable Volume</th><th style = \"text-align: left;\">%Deliverble</th></tr><tr class = \"subheader headerLastRow\"><th class = \"rowNumber\" style = \"font-weight: bold; text-align: right;\"></th><th title = \"Date\" style = \"text-align: left;\">Date</th><th title = \"String15\" style = \"text-align: left;\">String15</th><th title = \"String3\" style = \"text-align: left;\">String3</th><th title = \"Float64\" style = \"text-align: left;\">Float64</th><th title = \"Float64\" style = \"text-align: left;\">Float64</th><th title = \"Float64\" style = \"text-align: left;\">Float64</th><th title = \"Float64\" style = \"text-align: left;\">Float64</th><th title = \"Float64\" style = \"text-align: left;\">Float64</th><th title = \"Float64\" style = \"text-align: left;\">Float64</th><th title = \"Float64\" style = \"text-align: left;\">Float64</th><th title = \"Int64\" style = \"text-align: left;\">Int64</th><th title = \"Float64\" style = \"text-align: left;\">Float64</th><th title = \"Union{Missing, Float64}\" style = \"text-align: left;\">Float64?</th><th title = \"Int64\" style = \"text-align: left;\">Int64</th><th title = \"Float64\" style = \"text-align: left;\">Float64</th></tr></thead><tbody><tr><td class = \"rowNumber\" style = \"font-weight: bold; text-align: right;\">1</td><td style = \"text-align: left;\">2008-05-26</td><td style = \"text-align: left;\">BAJAJFINSV</td><td style = \"text-align: left;\">EQ</td><td style = \"text-align: right;\">2101.05</td><td style = \"text-align: right;\">600.0</td><td style = \"text-align: right;\">619.0</td><td style = \"text-align: right;\">501.0</td><td style = \"text-align: right;\">505.1</td><td style = \"text-align: right;\">509.1</td><td style = \"text-align: right;\">548.85</td><td style = \"text-align: right;\">3145446</td><td style = \"text-align: right;\">1.72637e14</td><td style = \"font-style: italic; text-align: right;\">missing</td><td style = \"text-align: right;\">908264</td><td style = \"text-align: right;\">0.2888</td></tr><tr><td class = \"rowNumber\" style = \"font-weight: bold; text-align: right;\">2</td><td style = \"text-align: left;\">2008-05-27</td><td style = \"text-align: left;\">BAJAJFINSV</td><td style = \"text-align: left;\">EQ</td><td style = \"text-align: right;\">509.1</td><td style = \"text-align: right;\">505.0</td><td style = \"text-align: right;\">610.95</td><td style = \"text-align: right;\">491.1</td><td style = \"text-align: right;\">564.0</td><td style = \"text-align: right;\">554.65</td><td style = \"text-align: right;\">572.15</td><td style = \"text-align: right;\">4349144</td><td style = \"text-align: right;\">2.48837e14</td><td style = \"font-style: italic; text-align: right;\">missing</td><td style = \"text-align: right;\">677627</td><td style = \"text-align: right;\">0.1558</td></tr><tr><td class = \"rowNumber\" style = \"font-weight: bold; text-align: right;\">3</td><td style = \"text-align: left;\">2008-05-28</td><td style = \"text-align: left;\">BAJAJFINSV</td><td style = \"text-align: left;\">EQ</td><td style = \"text-align: right;\">554.65</td><td style = \"text-align: right;\">564.0</td><td style = \"text-align: right;\">665.6</td><td style = \"text-align: right;\">564.0</td><td style = \"text-align: right;\">643.0</td><td style = \"text-align: right;\">640.95</td><td style = \"text-align: right;\">618.37</td><td style = \"text-align: right;\">4588759</td><td style = \"text-align: right;\">2.83753e14</td><td style = \"font-style: italic; text-align: right;\">missing</td><td style = \"text-align: right;\">774895</td><td style = \"text-align: right;\">0.1689</td></tr><tr><td class = \"rowNumber\" style = \"font-weight: bold; text-align: right;\">4</td><td style = \"text-align: left;\">2008-05-29</td><td style = \"text-align: left;\">BAJAJFINSV</td><td style = \"text-align: left;\">EQ</td><td style = \"text-align: right;\">640.95</td><td style = \"text-align: right;\">656.65</td><td style = \"text-align: right;\">703.0</td><td style = \"text-align: right;\">608.0</td><td style = \"text-align: right;\">634.5</td><td style = \"text-align: right;\">632.4</td><td style = \"text-align: right;\">659.6</td><td style = \"text-align: right;\">4522302</td><td style = \"text-align: right;\">2.98292e14</td><td style = \"font-style: italic; text-align: right;\">missing</td><td style = \"text-align: right;\">1006161</td><td style = \"text-align: right;\">0.2225</td></tr><tr><td class = \"rowNumber\" style = \"font-weight: bold; text-align: right;\">5</td><td style = \"text-align: left;\">2008-05-30</td><td style = \"text-align: left;\">BAJAJFINSV</td><td style = \"text-align: left;\">EQ</td><td style = \"text-align: right;\">632.4</td><td style = \"text-align: right;\">642.4</td><td style = \"text-align: right;\">668.0</td><td style = \"text-align: right;\">588.3</td><td style = \"text-align: right;\">647.0</td><td style = \"text-align: right;\">644.0</td><td style = \"text-align: right;\">636.41</td><td style = \"text-align: right;\">3057669</td><td style = \"text-align: right;\">1.94593e14</td><td style = \"font-style: italic; text-align: right;\">missing</td><td style = \"text-align: right;\">462832</td><td style = \"text-align: right;\">0.1514</td></tr><tr><td class = \"rowNumber\" style = \"font-weight: bold; text-align: right;\">6</td><td style = \"text-align: left;\">2008-06-02</td><td style = \"text-align: left;\">BAJAJFINSV</td><td style = \"text-align: left;\">EQ</td><td style = \"text-align: right;\">644.0</td><td style = \"text-align: right;\">650.0</td><td style = \"text-align: right;\">699.0</td><td style = \"text-align: right;\">622.0</td><td style = \"text-align: right;\">687.0</td><td style = \"text-align: right;\">686.95</td><td style = \"text-align: right;\">670.51</td><td style = \"text-align: right;\">2247399</td><td style = \"text-align: right;\">1.50691e14</td><td style = \"font-style: italic; text-align: right;\">missing</td><td style = \"text-align: right;\">351112</td><td style = \"text-align: right;\">0.1562</td></tr><tr><td class = \"rowNumber\" style = \"font-weight: bold; text-align: right;\">7</td><td style = \"text-align: left;\">2008-06-03</td><td style = \"text-align: left;\">BAJAJFINSV</td><td style = \"text-align: left;\">EQ</td><td style = \"text-align: right;\">686.95</td><td style = \"text-align: right;\">672.0</td><td style = \"text-align: right;\">689.8</td><td style = \"text-align: right;\">632.55</td><td style = \"text-align: right;\">670.55</td><td style = \"text-align: right;\">672.05</td><td style = \"text-align: right;\">665.87</td><td style = \"text-align: right;\">2299383</td><td style = \"text-align: right;\">1.53108e14</td><td style = \"font-style: italic; text-align: right;\">missing</td><td style = \"text-align: right;\">391772</td><td style = \"text-align: right;\">0.1704</td></tr><tr><td class = \"rowNumber\" style = \"font-weight: bold; text-align: right;\">8</td><td style = \"text-align: left;\">2008-06-04</td><td style = \"text-align: left;\">BAJAJFINSV</td><td style = \"text-align: left;\">EQ</td><td style = \"text-align: right;\">672.05</td><td style = \"text-align: right;\">674.0</td><td style = \"text-align: right;\">674.0</td><td style = \"text-align: right;\">566.6</td><td style = \"text-align: right;\">595.0</td><td style = \"text-align: right;\">598.95</td><td style = \"text-align: right;\">602.36</td><td style = \"text-align: right;\">2832725</td><td style = \"text-align: right;\">1.70632e14</td><td style = \"font-style: italic; text-align: right;\">missing</td><td style = \"text-align: right;\">735765</td><td style = \"text-align: right;\">0.2597</td></tr><tr><td class = \"rowNumber\" style = \"font-weight: bold; text-align: right;\">9</td><td style = \"text-align: left;\">2008-06-05</td><td style = \"text-align: left;\">BAJAJFINSV</td><td style = \"text-align: left;\">EQ</td><td style = \"text-align: right;\">598.95</td><td style = \"text-align: right;\">603.0</td><td style = \"text-align: right;\">639.8</td><td style = \"text-align: right;\">572.3</td><td style = \"text-align: right;\">631.5</td><td style = \"text-align: right;\">631.85</td><td style = \"text-align: right;\">610.65</td><td style = \"text-align: right;\">1344712</td><td style = \"text-align: right;\">8.21152e13</td><td style = \"font-style: italic; text-align: right;\">missing</td><td style = \"text-align: right;\">167819</td><td style = \"text-align: right;\">0.1248</td></tr><tr><td class = \"rowNumber\" style = \"font-weight: bold; text-align: right;\">10</td><td style = \"text-align: left;\">2008-06-06</td><td style = \"text-align: left;\">BAJAJFINSV</td><td style = \"text-align: left;\">EQ</td><td style = \"text-align: right;\">631.85</td><td style = \"text-align: right;\">639.25</td><td style = \"text-align: right;\">642.9</td><td style = \"text-align: right;\">608.05</td><td style = \"text-align: right;\">635.0</td><td style = \"text-align: right;\">630.9</td><td style = \"text-align: right;\">628.44</td><td style = \"text-align: right;\">794722</td><td style = \"text-align: right;\">4.99433e13</td><td style = \"font-style: italic; text-align: right;\">missing</td><td style = \"text-align: right;\">65497</td><td style = \"text-align: right;\">0.0824</td></tr><tr><td class = \"rowNumber\" style = \"font-weight: bold; text-align: right;\">11</td><td style = \"text-align: left;\">2008-06-09</td><td style = \"text-align: left;\">BAJAJFINSV</td><td style = \"text-align: left;\">EQ</td><td style = \"text-align: right;\">630.9</td><td style = \"text-align: right;\">620.0</td><td style = \"text-align: right;\">648.0</td><td style = \"text-align: right;\">580.0</td><td style = \"text-align: right;\">645.0</td><td style = \"text-align: right;\">629.9</td><td style = \"text-align: right;\">624.95</td><td style = \"text-align: right;\">758393</td><td style = \"text-align: right;\">4.73958e13</td><td style = \"font-style: italic; text-align: right;\">missing</td><td style = \"text-align: right;\">126531</td><td style = \"text-align: right;\">0.1668</td></tr><tr><td class = \"rowNumber\" style = \"font-weight: bold; text-align: right;\">12</td><td style = \"text-align: left;\">2008-06-10</td><td style = \"text-align: left;\">BAJAJFINSV</td><td style = \"text-align: left;\">EQ</td><td style = \"text-align: right;\">629.9</td><td style = \"text-align: right;\">618.0</td><td style = \"text-align: right;\">675.0</td><td style = \"text-align: right;\">618.0</td><td style = \"text-align: right;\">672.0</td><td style = \"text-align: right;\">669.25</td><td style = \"text-align: right;\">653.65</td><td style = \"text-align: right;\">939180</td><td style = \"text-align: right;\">6.13897e13</td><td style = \"font-style: italic; text-align: right;\">missing</td><td style = \"text-align: right;\">154239</td><td style = \"text-align: right;\">0.1642</td></tr><tr><td class = \"rowNumber\" style = \"font-weight: bold; text-align: right;\">13</td><td style = \"text-align: left;\">2008-06-11</td><td style = \"text-align: left;\">BAJAJFINSV</td><td style = \"text-align: left;\">EQ</td><td style = \"text-align: right;\">669.25</td><td style = \"text-align: right;\">672.0</td><td style = \"text-align: right;\">682.0</td><td style = \"text-align: right;\">641.1</td><td style = \"text-align: right;\">641.1</td><td style = \"text-align: right;\">653.5</td><td style = \"text-align: right;\">662.71</td><td style = \"text-align: right;\">750714</td><td style = \"text-align: right;\">4.97503e13</td><td style = \"font-style: italic; text-align: right;\">missing</td><td style = \"text-align: right;\">225104</td><td style = \"text-align: right;\">0.2999</td></tr><tr><td style = \"text-align: right;\">&vellip;</td><td style = \"text-align: right;\">&vellip;</td><td style = \"text-align: right;\">&vellip;</td><td style = \"text-align: right;\">&vellip;</td><td style = \"text-align: right;\">&vellip;</td><td style = \"text-align: right;\">&vellip;</td><td style = \"text-align: right;\">&vellip;</td><td style = \"text-align: right;\">&vellip;</td><td style = \"text-align: right;\">&vellip;</td><td style = \"text-align: right;\">&vellip;</td><td style = \"text-align: right;\">&vellip;</td><td style = \"text-align: right;\">&vellip;</td><td style = \"text-align: right;\">&vellip;</td><td style = \"text-align: right;\">&vellip;</td><td style = \"text-align: right;\">&vellip;</td><td style = \"text-align: right;\">&vellip;</td></tr><tr><td class = \"rowNumber\" style = \"font-weight: bold; text-align: right;\">3190</td><td style = \"text-align: left;\">2021-04-13</td><td style = \"text-align: left;\">BAJAJFINSV</td><td style = \"text-align: left;\">EQ</td><td style = \"text-align: right;\">9163.15</td><td style = \"text-align: right;\">9200.0</td><td style = \"text-align: right;\">9847.5</td><td style = \"text-align: right;\">9190.05</td><td style = \"text-align: right;\">9766.0</td><td style = \"text-align: right;\">9806.7</td><td style = \"text-align: right;\">9587.77</td><td style = \"text-align: right;\">830915</td><td style = \"text-align: right;\">7.96662e14</td><td style = \"font-style: italic; text-align: right;\">100243.0</td><td style = \"text-align: right;\">200600</td><td style = \"text-align: right;\">0.2414</td></tr><tr><td class = \"rowNumber\" style = \"font-weight: bold; text-align: right;\">3191</td><td style = \"text-align: left;\">2021-04-15</td><td style = \"text-align: left;\">BAJAJFINSV</td><td style = \"text-align: left;\">EQ</td><td style = \"text-align: right;\">9806.7</td><td style = \"text-align: right;\">9751.7</td><td style = \"text-align: right;\">9834.0</td><td style = \"text-align: right;\">9597.0</td><td style = \"text-align: right;\">9760.0</td><td style = \"text-align: right;\">9739.7</td><td style = \"text-align: right;\">9694.01</td><td style = \"text-align: right;\">587504</td><td style = \"text-align: right;\">5.69527e14</td><td style = \"font-style: italic; text-align: right;\">91201.0</td><td style = \"text-align: right;\">197282</td><td style = \"text-align: right;\">0.3358</td></tr><tr><td class = \"rowNumber\" style = \"font-weight: bold; text-align: right;\">3192</td><td style = \"text-align: left;\">2021-04-16</td><td style = \"text-align: left;\">BAJAJFINSV</td><td style = \"text-align: left;\">EQ</td><td style = \"text-align: right;\">9739.7</td><td style = \"text-align: right;\">9765.0</td><td style = \"text-align: right;\">9880.0</td><td style = \"text-align: right;\">9765.0</td><td style = \"text-align: right;\">9801.0</td><td style = \"text-align: right;\">9824.75</td><td style = \"text-align: right;\">9823.88</td><td style = \"text-align: right;\">400132</td><td style = \"text-align: right;\">3.93085e14</td><td style = \"font-style: italic; text-align: right;\">54931.0</td><td style = \"text-align: right;\">111651</td><td style = \"text-align: right;\">0.279</td></tr><tr><td class = \"rowNumber\" style = \"font-weight: bold; text-align: right;\">3193</td><td style = \"text-align: left;\">2021-04-19</td><td style = \"text-align: left;\">BAJAJFINSV</td><td style = \"text-align: left;\">EQ</td><td style = \"text-align: right;\">9824.75</td><td style = \"text-align: right;\">9505.5</td><td style = \"text-align: right;\">9654.0</td><td style = \"text-align: right;\">9392.6</td><td style = \"text-align: right;\">9485.0</td><td style = \"text-align: right;\">9469.9</td><td style = \"text-align: right;\">9501.23</td><td style = \"text-align: right;\">697435</td><td style = \"text-align: right;\">6.62649e14</td><td style = \"font-style: italic; text-align: right;\">117451.0</td><td style = \"text-align: right;\">283236</td><td style = \"text-align: right;\">0.4061</td></tr><tr><td class = \"rowNumber\" style = \"font-weight: bold; text-align: right;\">3194</td><td style = \"text-align: left;\">2021-04-20</td><td style = \"text-align: left;\">BAJAJFINSV</td><td style = \"text-align: left;\">EQ</td><td style = \"text-align: right;\">9469.9</td><td style = \"text-align: right;\">9600.0</td><td style = \"text-align: right;\">9945.5</td><td style = \"text-align: right;\">9600.0</td><td style = \"text-align: right;\">9799.9</td><td style = \"text-align: right;\">9819.4</td><td style = \"text-align: right;\">9824.26</td><td style = \"text-align: right;\">798732</td><td style = \"text-align: right;\">7.84695e14</td><td style = \"font-style: italic; text-align: right;\">90313.0</td><td style = \"text-align: right;\">180921</td><td style = \"text-align: right;\">0.2265</td></tr><tr><td class = \"rowNumber\" style = \"font-weight: bold; text-align: right;\">3195</td><td style = \"text-align: left;\">2021-04-22</td><td style = \"text-align: left;\">BAJAJFINSV</td><td style = \"text-align: left;\">EQ</td><td style = \"text-align: right;\">9819.4</td><td style = \"text-align: right;\">9700.0</td><td style = \"text-align: right;\">9911.9</td><td style = \"text-align: right;\">9610.0</td><td style = \"text-align: right;\">9840.0</td><td style = \"text-align: right;\">9853.85</td><td style = \"text-align: right;\">9746.74</td><td style = \"text-align: right;\">582210</td><td style = \"text-align: right;\">5.67465e14</td><td style = \"font-style: italic; text-align: right;\">82982.0</td><td style = \"text-align: right;\">140509</td><td style = \"text-align: right;\">0.2413</td></tr><tr><td class = \"rowNumber\" style = \"font-weight: bold; text-align: right;\">3196</td><td style = \"text-align: left;\">2021-04-23</td><td style = \"text-align: left;\">BAJAJFINSV</td><td style = \"text-align: left;\">EQ</td><td style = \"text-align: right;\">9853.85</td><td style = \"text-align: right;\">9740.0</td><td style = \"text-align: right;\">10142.4</td><td style = \"text-align: right;\">9740.0</td><td style = \"text-align: right;\">9911.0</td><td style = \"text-align: right;\">9916.65</td><td style = \"text-align: right;\">9956.69</td><td style = \"text-align: right;\">628025</td><td style = \"text-align: right;\">6.25305e14</td><td style = \"font-style: italic; text-align: right;\">72208.0</td><td style = \"text-align: right;\">75141</td><td style = \"text-align: right;\">0.1196</td></tr><tr><td class = \"rowNumber\" style = \"font-weight: bold; text-align: right;\">3197</td><td style = \"text-align: left;\">2021-04-26</td><td style = \"text-align: left;\">BAJAJFINSV</td><td style = \"text-align: left;\">EQ</td><td style = \"text-align: right;\">9916.65</td><td style = \"text-align: right;\">9992.0</td><td style = \"text-align: right;\">10125.0</td><td style = \"text-align: right;\">9902.2</td><td style = \"text-align: right;\">10000.9</td><td style = \"text-align: right;\">10001.8</td><td style = \"text-align: right;\">9995.72</td><td style = \"text-align: right;\">419596</td><td style = \"text-align: right;\">4.19416e14</td><td style = \"font-style: italic; text-align: right;\">45113.0</td><td style = \"text-align: right;\">77816</td><td style = \"text-align: right;\">0.1855</td></tr><tr><td class = \"rowNumber\" style = \"font-weight: bold; text-align: right;\">3198</td><td style = \"text-align: left;\">2021-04-27</td><td style = \"text-align: left;\">BAJAJFINSV</td><td style = \"text-align: left;\">EQ</td><td style = \"text-align: right;\">10001.8</td><td style = \"text-align: right;\">10000.0</td><td style = \"text-align: right;\">10133.0</td><td style = \"text-align: right;\">9964.7</td><td style = \"text-align: right;\">10133.0</td><td style = \"text-align: right;\">10091.4</td><td style = \"text-align: right;\">10036.8</td><td style = \"text-align: right;\">342847</td><td style = \"text-align: right;\">3.44107e14</td><td style = \"font-style: italic; text-align: right;\">40414.0</td><td style = \"text-align: right;\">77723</td><td style = \"text-align: right;\">0.2267</td></tr><tr><td class = \"rowNumber\" style = \"font-weight: bold; text-align: right;\">3199</td><td style = \"text-align: left;\">2021-04-28</td><td style = \"text-align: left;\">BAJAJFINSV</td><td style = \"text-align: left;\">EQ</td><td style = \"text-align: right;\">10091.4</td><td style = \"text-align: right;\">10200.0</td><td style = \"text-align: right;\">10616.0</td><td style = \"text-align: right;\">10151.1</td><td style = \"text-align: right;\">10480.0</td><td style = \"text-align: right;\">10489.3</td><td style = \"text-align: right;\">10446.0</td><td style = \"text-align: right;\">1113881</td><td style = \"text-align: right;\">1.16356e15</td><td style = \"font-style: italic; text-align: right;\">126354.0</td><td style = \"text-align: right;\">133587</td><td style = \"text-align: right;\">0.1199</td></tr><tr><td class = \"rowNumber\" style = \"font-weight: bold; text-align: right;\">3200</td><td style = \"text-align: left;\">2021-04-29</td><td style = \"text-align: left;\">BAJAJFINSV</td><td style = \"text-align: left;\">EQ</td><td style = \"text-align: right;\">10489.3</td><td style = \"text-align: right;\">10540.0</td><td style = \"text-align: right;\">11300.0</td><td style = \"text-align: right;\">10520.0</td><td style = \"text-align: right;\">11175.5</td><td style = \"text-align: right;\">11176.5</td><td style = \"text-align: right;\">10980.4</td><td style = \"text-align: right;\">1696498</td><td style = \"text-align: right;\">1.86282e15</td><td style = \"font-style: italic; text-align: right;\">165425.0</td><td style = \"text-align: right;\">195324</td><td style = \"text-align: right;\">0.1151</td></tr><tr><td class = \"rowNumber\" style = \"font-weight: bold; text-align: right;\">3201</td><td style = \"text-align: left;\">2021-04-30</td><td style = \"text-align: left;\">BAJAJFINSV</td><td style = \"text-align: left;\">EQ</td><td style = \"text-align: right;\">11176.5</td><td style = \"text-align: right;\">11000.0</td><td style = \"text-align: right;\">11225.0</td><td style = \"text-align: right;\">10868.7</td><td style = \"text-align: right;\">11021.0</td><td style = \"text-align: right;\">11041.6</td><td style = \"text-align: right;\">11081.8</td><td style = \"text-align: right;\">835355</td><td style = \"text-align: right;\">9.25722e14</td><td style = \"font-style: italic; text-align: right;\">85986.0</td><td style = \"text-align: right;\">129995</td><td style = \"text-align: right;\">0.1556</td></tr></tbody></table></div>"
      ],
      "text/latex": [
       "\\begin{tabular}{r|ccccccccc}\n",
       "\t& Date & Symbol & Series & Prev Close & Open & High & Low & Last & \\\\\n",
       "\t\\hline\n",
       "\t& Date & String15 & String3 & Float64 & Float64 & Float64 & Float64 & Float64 & \\\\\n",
       "\t\\hline\n",
       "\t1 & 2008-05-26 & BAJAJFINSV & EQ & 2101.05 & 600.0 & 619.0 & 501.0 & 505.1 & $\\dots$ \\\\\n",
       "\t2 & 2008-05-27 & BAJAJFINSV & EQ & 509.1 & 505.0 & 610.95 & 491.1 & 564.0 & $\\dots$ \\\\\n",
       "\t3 & 2008-05-28 & BAJAJFINSV & EQ & 554.65 & 564.0 & 665.6 & 564.0 & 643.0 & $\\dots$ \\\\\n",
       "\t4 & 2008-05-29 & BAJAJFINSV & EQ & 640.95 & 656.65 & 703.0 & 608.0 & 634.5 & $\\dots$ \\\\\n",
       "\t5 & 2008-05-30 & BAJAJFINSV & EQ & 632.4 & 642.4 & 668.0 & 588.3 & 647.0 & $\\dots$ \\\\\n",
       "\t6 & 2008-06-02 & BAJAJFINSV & EQ & 644.0 & 650.0 & 699.0 & 622.0 & 687.0 & $\\dots$ \\\\\n",
       "\t7 & 2008-06-03 & BAJAJFINSV & EQ & 686.95 & 672.0 & 689.8 & 632.55 & 670.55 & $\\dots$ \\\\\n",
       "\t8 & 2008-06-04 & BAJAJFINSV & EQ & 672.05 & 674.0 & 674.0 & 566.6 & 595.0 & $\\dots$ \\\\\n",
       "\t9 & 2008-06-05 & BAJAJFINSV & EQ & 598.95 & 603.0 & 639.8 & 572.3 & 631.5 & $\\dots$ \\\\\n",
       "\t10 & 2008-06-06 & BAJAJFINSV & EQ & 631.85 & 639.25 & 642.9 & 608.05 & 635.0 & $\\dots$ \\\\\n",
       "\t11 & 2008-06-09 & BAJAJFINSV & EQ & 630.9 & 620.0 & 648.0 & 580.0 & 645.0 & $\\dots$ \\\\\n",
       "\t12 & 2008-06-10 & BAJAJFINSV & EQ & 629.9 & 618.0 & 675.0 & 618.0 & 672.0 & $\\dots$ \\\\\n",
       "\t13 & 2008-06-11 & BAJAJFINSV & EQ & 669.25 & 672.0 & 682.0 & 641.1 & 641.1 & $\\dots$ \\\\\n",
       "\t14 & 2008-06-12 & BAJAJFINSV & EQ & 653.5 & 629.0 & 638.45 & 601.0 & 602.0 & $\\dots$ \\\\\n",
       "\t15 & 2008-06-13 & BAJAJFINSV & EQ & 605.9 & 607.0 & 624.5 & 572.75 & 577.0 & $\\dots$ \\\\\n",
       "\t16 & 2008-06-16 & BAJAJFINSV & EQ & 580.8 & 595.0 & 618.0 & 587.25 & 613.1 & $\\dots$ \\\\\n",
       "\t17 & 2008-06-17 & BAJAJFINSV & EQ & 614.05 & 610.0 & 626.0 & 605.1 & 610.0 & $\\dots$ \\\\\n",
       "\t18 & 2008-06-18 & BAJAJFINSV & EQ & 611.05 & 615.0 & 617.2 & 585.1 & 595.0 & $\\dots$ \\\\\n",
       "\t19 & 2008-06-19 & BAJAJFINSV & EQ & 591.95 & 580.0 & 625.0 & 578.05 & 613.0 & $\\dots$ \\\\\n",
       "\t20 & 2008-06-20 & BAJAJFINSV & EQ & 611.85 & 603.0 & 618.25 & 532.0 & 569.0 & $\\dots$ \\\\\n",
       "\t21 & 2008-06-23 & BAJAJFINSV & EQ & 554.95 & 551.0 & 575.9 & 550.0 & 566.55 & $\\dots$ \\\\\n",
       "\t22 & 2008-06-24 & BAJAJFINSV & EQ & 565.4 & 565.5 & 572.0 & 537.0 & 547.1 & $\\dots$ \\\\\n",
       "\t23 & 2008-06-25 & BAJAJFINSV & EQ & 549.15 & 542.0 & 632.5 & 540.0 & 580.0 & $\\dots$ \\\\\n",
       "\t24 & 2008-06-26 & BAJAJFINSV & EQ & 577.1 & 578.0 & 600.0 & 578.0 & 588.0 & $\\dots$ \\\\\n",
       "\t25 & 2008-06-27 & BAJAJFINSV & EQ & 590.25 & 585.0 & 585.0 & 550.0 & 565.0 & $\\dots$ \\\\\n",
       "\t26 & 2008-06-30 & BAJAJFINSV & EQ & 562.0 & 565.0 & 570.0 & 520.0 & 523.0 & $\\dots$ \\\\\n",
       "\t27 & 2008-07-01 & BAJAJFINSV & EQ & 537.85 & 535.0 & 536.9 & 502.65 & 526.5 & $\\dots$ \\\\\n",
       "\t28 & 2008-07-02 & BAJAJFINSV & EQ & 517.75 & 511.0 & 530.0 & 495.0 & 518.0 & $\\dots$ \\\\\n",
       "\t29 & 2008-07-03 & BAJAJFINSV & EQ & 522.55 & 495.2 & 513.85 & 446.0 & 455.0 & $\\dots$ \\\\\n",
       "\t30 & 2008-07-04 & BAJAJFINSV & EQ & 478.5 & 471.35 & 500.0 & 447.0 & 499.05 & $\\dots$ \\\\\n",
       "\t$\\dots$ & $\\dots$ & $\\dots$ & $\\dots$ & $\\dots$ & $\\dots$ & $\\dots$ & $\\dots$ & $\\dots$ &  \\\\\n",
       "\\end{tabular}\n"
      ],
      "text/plain": [
       "\u001b[1m3201×15 DataFrame\u001b[0m\n",
       "\u001b[1m  Row \u001b[0m│\u001b[1m Date       \u001b[0m\u001b[1m Symbol     \u001b[0m\u001b[1m Series  \u001b[0m\u001b[1m Prev Close \u001b[0m\u001b[1m Open     \u001b[0m\u001b[1m High     \u001b[0m\u001b[1m Low  \u001b[0m ⋯\n",
       "      │\u001b[90m Date       \u001b[0m\u001b[90m String15   \u001b[0m\u001b[90m String3 \u001b[0m\u001b[90m Float64    \u001b[0m\u001b[90m Float64  \u001b[0m\u001b[90m Float64  \u001b[0m\u001b[90m Float\u001b[0m ⋯\n",
       "──────┼─────────────────────────────────────────────────────────────────────────\n",
       "    1 │ 2008-05-26  BAJAJFINSV  EQ          2101.05    600.0     619.0     501 ⋯\n",
       "    2 │ 2008-05-27  BAJAJFINSV  EQ           509.1     505.0     610.95    491\n",
       "    3 │ 2008-05-28  BAJAJFINSV  EQ           554.65    564.0     665.6     564\n",
       "    4 │ 2008-05-29  BAJAJFINSV  EQ           640.95    656.65    703.0     608\n",
       "    5 │ 2008-05-30  BAJAJFINSV  EQ           632.4     642.4     668.0     588 ⋯\n",
       "    6 │ 2008-06-02  BAJAJFINSV  EQ           644.0     650.0     699.0     622\n",
       "    7 │ 2008-06-03  BAJAJFINSV  EQ           686.95    672.0     689.8     632\n",
       "    8 │ 2008-06-04  BAJAJFINSV  EQ           672.05    674.0     674.0     566\n",
       "    9 │ 2008-06-05  BAJAJFINSV  EQ           598.95    603.0     639.8     572 ⋯\n",
       "   10 │ 2008-06-06  BAJAJFINSV  EQ           631.85    639.25    642.9     608\n",
       "   11 │ 2008-06-09  BAJAJFINSV  EQ           630.9     620.0     648.0     580\n",
       "  ⋮   │     ⋮           ⋮          ⋮         ⋮          ⋮         ⋮         ⋮  ⋱\n",
       " 3192 │ 2021-04-16  BAJAJFINSV  EQ          9739.7    9765.0    9880.0    9765\n",
       " 3193 │ 2021-04-19  BAJAJFINSV  EQ          9824.75   9505.5    9654.0    9392 ⋯\n",
       " 3194 │ 2021-04-20  BAJAJFINSV  EQ          9469.9    9600.0    9945.5    9600\n",
       " 3195 │ 2021-04-22  BAJAJFINSV  EQ          9819.4    9700.0    9911.9    9610\n",
       " 3196 │ 2021-04-23  BAJAJFINSV  EQ          9853.85   9740.0   10142.4    9740\n",
       " 3197 │ 2021-04-26  BAJAJFINSV  EQ          9916.65   9992.0   10125.0    9902 ⋯\n",
       " 3198 │ 2021-04-27  BAJAJFINSV  EQ         10001.8   10000.0   10133.0    9964\n",
       " 3199 │ 2021-04-28  BAJAJFINSV  EQ         10091.4   10200.0   10616.0   10151\n",
       " 3200 │ 2021-04-29  BAJAJFINSV  EQ         10489.3   10540.0   11300.0   10520\n",
       " 3201 │ 2021-04-30  BAJAJFINSV  EQ         11176.5   11000.0   11225.0   10868 ⋯\n",
       "\u001b[36m                                                 9 columns and 3180 rows omitted\u001b[0m"
      ]
     },
     "execution_count": 7,
     "metadata": {},
     "output_type": "execute_result"
    }
   ],
   "source": [
    "using CSV, DataFrames\n",
    "df = CSV.read(\"BAJAJFINSV.csv\", DataFrame)"
   ]
  },
  {
   "cell_type": "code",
   "execution_count": 18,
   "id": "ffe235a1",
   "metadata": {},
   "outputs": [
    {
     "data": {
      "text/plain": [
       "3201-element Vector{Float64}:\n",
       "   548.85\n",
       "   572.15\n",
       "   618.37\n",
       "   659.6\n",
       "   636.41\n",
       "   670.51\n",
       "   665.87\n",
       "   602.36\n",
       "   610.65\n",
       "   628.44\n",
       "   624.95\n",
       "   653.65\n",
       "   662.71\n",
       "     ⋮\n",
       "  9587.77\n",
       "  9694.01\n",
       "  9823.88\n",
       "  9501.23\n",
       "  9824.26\n",
       "  9746.74\n",
       "  9956.69\n",
       "  9995.72\n",
       " 10036.76\n",
       " 10445.96\n",
       " 10980.4\n",
       " 11081.78"
      ]
     },
     "execution_count": 18,
     "metadata": {},
     "output_type": "execute_result"
    }
   ],
   "source": [
    "vwap = df.VWAP"
   ]
  },
  {
   "cell_type": "code",
   "execution_count": 16,
   "id": "a0759ca1",
   "metadata": {},
   "outputs": [
    {
     "ename": "LoadError",
     "evalue": "MethodError: no method matching Flux.LSTMCell(::Vector{Float64}, ::Int64)\n\u001b[0mClosest candidates are:\n\u001b[0m  Flux.LSTMCell(::I, ::H, \u001b[91m::V\u001b[39m, \u001b[91m::S\u001b[39m) where {I, H, V, S} at /Users/irene/.julia/packages/Flux/uCLgc/src/layers/recurrent.jl:295\n\u001b[0m  Flux.LSTMCell(\u001b[91m::Integer\u001b[39m, ::Integer; kw...) at /Users/irene/.julia/packages/Flux/uCLgc/src/deprecations.jl:70",
     "output_type": "error",
     "traceback": [
      "MethodError: no method matching Flux.LSTMCell(::Vector{Float64}, ::Int64)\n\u001b[0mClosest candidates are:\n\u001b[0m  Flux.LSTMCell(::I, ::H, \u001b[91m::V\u001b[39m, \u001b[91m::S\u001b[39m) where {I, H, V, S} at /Users/irene/.julia/packages/Flux/uCLgc/src/layers/recurrent.jl:295\n\u001b[0m  Flux.LSTMCell(\u001b[91m::Integer\u001b[39m, ::Integer; kw...) at /Users/irene/.julia/packages/Flux/uCLgc/src/deprecations.jl:70",
      "",
      "Stacktrace:",
      " [1] LSTM(::Vector{Float64}, ::Vararg{Any, N} where N; ka::Base.Iterators.Pairs{Union{}, Union{}, Tuple{}, NamedTuple{(), Tuple{}}})",
      "   @ Flux ~/.julia/packages/Flux/uCLgc/src/layers/recurrent.jl:362",
      " [2] LSTM(::Vector{Float64}, ::Vararg{Any, N} where N)",
      "   @ Flux ~/.julia/packages/Flux/uCLgc/src/layers/recurrent.jl:362",
      " [3] top-level scope",
      "   @ In[16]:1"
     ]
    }
   ],
   "source": [
    "\n",
    "m = Flux.Chain(\n",
    "            LSTM(df.VWAP, 10),\n",
    "            Dense(10, 1))\n",
    "            Chain(Recur(LSTMCell(3210, 10))), \n",
    "            Dense(10, 1))"
   ]
  },
  {
   "cell_type": "code",
   "execution_count": 23,
   "id": "67aa48df",
   "metadata": {},
   "outputs": [
    {
     "data": {
      "text/plain": [
       "Chain(\n",
       "  Recur(\n",
       "    RNNCell(2 => 5, tanh),              \u001b[90m# 45 parameters\u001b[39m\n",
       "  ),\n",
       "  Dense(5 => 1),                        \u001b[90m# 6 parameters\u001b[39m\n",
       ") \u001b[90m        # Total: 6 trainable arrays, \u001b[39m51 parameters,\n",
       "\u001b[90m          # plus 1 non-trainable, 5 parameters, summarysize \u001b[39m580 bytes."
      ]
     },
     "execution_count": 23,
     "metadata": {},
     "output_type": "execute_result"
    }
   ],
   "source": [
    "# https://fluxml.ai/Flux.jl/stable/models/recurrence/\n",
    "m = Flux.Chain(RNN(2 => 5), Dense(5 => 1))\n",
    "Chain(\n",
    "  Flux.Recur(\n",
    "    Flux.RNNCell(2 => 5, tanh),              # 45 parameters\n",
    "  ),\n",
    "  Dense(5 => 1),                        # 6 parameters\n",
    ")"
   ]
  }
 ],
 "metadata": {
  "kernelspec": {
   "display_name": "Julia 1.6.7",
   "language": "julia",
   "name": "julia-1.6"
  },
  "language_info": {
   "file_extension": ".jl",
   "mimetype": "application/julia",
   "name": "julia",
   "version": "1.6.7"
  }
 },
 "nbformat": 4,
 "nbformat_minor": 5
}
