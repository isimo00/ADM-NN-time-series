{
 "cells": [
  {
   "cell_type": "code",
   "execution_count": 4,
   "id": "bf53cba6",
   "metadata": {},
   "outputs": [],
   "source": [
    "using Flux, Plots, Statistics, MLDatasets, Images\n",
    "# https://www.youtube.com/watch?v=nMwjgCchTJc"
   ]
  },
  {
   "cell_type": "code",
   "execution_count": 2,
   "id": "a0128603",
   "metadata": {},
   "outputs": [
    {
     "data": {
      "text/plain": [
       "(features = Float32[0.0 0.0 … 0.0 0.0; 0.0 0.0 … 0.0 0.0; … ; 0.0 0.0 … 0.0 0.0; 0.0 0.0 … 0.0 0.0]\n",
       "\n",
       "Float32[0.0 0.0 … 0.0 0.0; 0.0 0.0 … 0.0 0.0; … ; 0.0 0.0 … 0.0 0.0; 0.0 0.0 … 0.0 0.0]\n",
       "\n",
       "Float32[0.0 0.0 … 0.0 0.0; 0.0 0.0 … 0.0 0.0; … ; 0.0 0.0 … 0.0 0.0; 0.0 0.0 … 0.0 0.0]\n",
       "\n",
       "...\n",
       "\n",
       "Float32[0.0 0.0 … 0.0 0.0; 0.0 0.0 … 0.0 0.0; … ; 0.0 0.0 … 0.0 0.0; 0.0 0.0 … 0.0 0.0]\n",
       "\n",
       "Float32[0.0 0.0 … 0.0 0.0; 0.0 0.0 … 0.0 0.0; … ; 0.0 0.0 … 0.0 0.0; 0.0 0.0 … 0.0 0.0]\n",
       "\n",
       "Float32[0.0 0.0 … 0.0 0.0; 0.0 0.0 … 0.0 0.0; … ; 0.0 0.0 … 0.0 0.0; 0.0 0.0 … 0.0 0.0], targets = [7, 2, 1, 0, 4, 1, 4, 9, 5, 9  …  7, 8, 9, 0, 1, 2, 3, 4, 5, 6])"
      ]
     },
     "execution_count": 2,
     "metadata": {},
     "output_type": "execute_result"
    }
   ],
   "source": [
    "train_x, train_y = MNIST(split=:train)[:]\n",
    "test_x, test_y = MNIST(split = :test)[:]"
   ]
  },
  {
   "cell_type": "code",
   "execution_count": 5,
   "id": "da424931",
   "metadata": {},
   "outputs": [
    {
     "data": {
      "image/png": "[encoded data removed]",
      "text/html": [
       "<img src=\"data:image/png;base64,iVBORw0KGgoAAAANSUhEUgAAAHAAAABwCAAAAADji6uXAAAABGdBTUEAALGPC/xhBQAAAAFzUkdCAK7OHOkAAAAgY0hSTQAAeiYAAICEAAD6AAAAgOgAAHUwAADqYAAAOpgAABdwnLpRPAAAAiVJREFUaAW9wT2IFgQABuAHemnI4aJFISgJwkDIIiqIsMLcajiKIEEIshosmgSHhhoUIW/IcIgCISHa+psKsp8hEKSSSAlyECon61Q+jMDT4RuO7w6/n5Pe54myKIuyKIuyKIuyKIuyKIuyKIuyKIuyKIuyKIuyKIsZ3YQ5y17FLdiE3TiI5/EvDuAto6IsyqIsJrgDN+MRPIpb8YzV/sAhzOMSTuI7q0VZlEVZjHE/vsac8ZbwBgb4CH/hH/xmtSiLsiiLMc7iPOasdhyLeAL/4ajpRFmURVmM8Tf24Cn8hEOGfsZ2DLAZr5telEVZlMUEn+IYLmELXsQCBoZ+xcumF2VRFmUxhYuGLhjahY+xZHZRFmVRFjN4Ew/gMTyJr8wuyqIsymIGA7yEH/E+vsEJHMZV04myKIuymNEZvIAj2ImdWIcPcc5kURZlURZr8Al+xwK2YT/uxD78abwoi7IoizX6Bc/haRzBK7gb240XZVEWZXEDFnEUHyDYisfxreuLsiiLslije/EsHkQMncL3xouyKIuymNEmvIZ5bLDsCs5hyXhRFmVRFlPagB3YjY1GncA+fG6yKIuyKIsJ1mMz3sU9Rh3H2/gMS6YTZVEWZXEdt+E93Ie7jPoBC/gSl80myqIsymKFh7EHD+F2oy7jHezHwNpEWZRFWawwj3nLTuMLXMFBLLoxURZlURYr7MVe/58oi7Ioi7Ioi7Ioi7Ioi7IouwZsVVgTmd3ynQAAAABJRU5ErkJg\">"
      ],
      "text/plain": [
       "28×28 reinterpret(reshape, Gray{Float32}, adjoint(::Matrix{Float32})) with eltype Gray{Float32}:\n",
       " Gray{Float32}(0.0)  Gray{Float32}(0.0)  …  Gray{Float32}(0.0)\n",
       " Gray{Float32}(0.0)  Gray{Float32}(0.0)     Gray{Float32}(0.0)\n",
       " Gray{Float32}(0.0)  Gray{Float32}(0.0)     Gray{Float32}(0.0)\n",
       " Gray{Float32}(0.0)  Gray{Float32}(0.0)     Gray{Float32}(0.0)\n",
       " Gray{Float32}(0.0)  Gray{Float32}(0.0)     Gray{Float32}(0.0)\n",
       " Gray{Float32}(0.0)  Gray{Float32}(0.0)  …  Gray{Float32}(0.0)\n",
       " Gray{Float32}(0.0)  Gray{Float32}(0.0)     Gray{Float32}(0.0)\n",
       " Gray{Float32}(0.0)  Gray{Float32}(0.0)     Gray{Float32}(0.0)\n",
       " Gray{Float32}(0.0)  Gray{Float32}(0.0)     Gray{Float32}(0.0)\n",
       " Gray{Float32}(0.0)  Gray{Float32}(0.0)     Gray{Float32}(0.0)\n",
       " Gray{Float32}(0.0)  Gray{Float32}(0.0)  …  Gray{Float32}(0.0)\n",
       " Gray{Float32}(0.0)  Gray{Float32}(0.0)     Gray{Float32}(0.0)\n",
       " Gray{Float32}(0.0)  Gray{Float32}(0.0)     Gray{Float32}(0.0)\n",
       " ⋮                                       ⋱  \n",
       " Gray{Float32}(0.0)  Gray{Float32}(0.0)     Gray{Float32}(0.0)\n",
       " Gray{Float32}(0.0)  Gray{Float32}(0.0)     Gray{Float32}(0.0)\n",
       " Gray{Float32}(0.0)  Gray{Float32}(0.0)     Gray{Float32}(0.0)\n",
       " Gray{Float32}(0.0)  Gray{Float32}(0.0)     Gray{Float32}(0.0)\n",
       " Gray{Float32}(0.0)  Gray{Float32}(0.0)  …  Gray{Float32}(0.0)\n",
       " Gray{Float32}(0.0)  Gray{Float32}(0.0)     Gray{Float32}(0.0)\n",
       " Gray{Float32}(0.0)  Gray{Float32}(0.0)     Gray{Float32}(0.0)\n",
       " Gray{Float32}(0.0)  Gray{Float32}(0.0)     Gray{Float32}(0.0)\n",
       " Gray{Float32}(0.0)  Gray{Float32}(0.0)     Gray{Float32}(0.0)\n",
       " Gray{Float32}(0.0)  Gray{Float32}(0.0)  …  Gray{Float32}(0.0)\n",
       " Gray{Float32}(0.0)  Gray{Float32}(0.0)     Gray{Float32}(0.0)\n",
       " Gray{Float32}(0.0)  Gray{Float32}(0.0)     Gray{Float32}(0.0)"
      ]
     },
     "execution_count": 5,
     "metadata": {},
     "output_type": "execute_result"
    }
   ],
   "source": [
    "colorview(Gray, train_x[:, :, 1]')"
   ]
  },
  {
   "cell_type": "code",
   "execution_count": 11,
   "id": "c92386fd",
   "metadata": {},
   "outputs": [
    {
     "data": {
      "text/plain": [
       "(28, 28, 60000)"
      ]
     },
     "execution_count": 11,
     "metadata": {},
     "output_type": "execute_result"
    }
   ],
   "source": [
    "xtrain = Flux.flatten(train_x)\n",
    "xtest = Flux.flatten(test_x)\n",
    "\n",
    "ytrain, ytest = Flux.onehotbatch(train_y, 0:9), Flux.onehotbatch(test_y, 0:9)\n",
    "(m, n, z) = size(train_x)"
   ]
  },
  {
   "cell_type": "code",
   "execution_count": 12,
   "id": "14207f6d",
   "metadata": {},
   "outputs": [
    {
     "data": {
      "text/plain": [
       "Chain(\n",
       "  Dense(784 => 60, σ),                  \u001b[90m# 47_100 parameters\u001b[39m\n",
       "  Dense(60 => 60, σ),                   \u001b[90m# 3_660 parameters\u001b[39m\n",
       "  Dense(60 => 10, σ),                   \u001b[90m# 610 parameters\u001b[39m\n",
       ") \u001b[90m                  # Total: 6 arrays, \u001b[39m51_370 parameters, 201.039 KiB."
      ]
     },
     "execution_count": 12,
     "metadata": {},
     "output_type": "execute_result"
    }
   ],
   "source": [
    "model = Flux.Chain(\n",
    "                    Dense(m*n, 60, Flux.σ),\n",
    "                    Dense(60, 60, Flux.σ),\n",
    "                    Dense(60, 10, Flux.σ),\n",
    "                    )"
   ]
  },
  {
   "cell_type": "code",
   "execution_count": 22,
   "id": "1074b10a",
   "metadata": {},
   "outputs": [
    {
     "name": "stdout",
     "output_type": "stream",
     "text": [
      "old loss = 0.25748214\n",
      "old accuracy = 0.09776666666666667\n",
      "new loss = 0.24156658\n",
      "n ew accuracy = 0.09743333333333333\n"
     ]
    }
   ],
   "source": [
    "loss(x,y)=Flux.Losses.mse(model(x), y)\n",
    "accuracy(x, y) = Statistics.mean(Flux.onecold(model(x)) .== Flux.onecold(y))\n",
    "opt = Descent(0.23) # this is full gradien descent, not stochcastic\n",
    "data = [(xtrain, ytrain)]\n",
    "parameters = Flux.params(model)\n",
    "println(\"old loss = $(loss(xtrain, ytrain))\")\n",
    "println(\"old accuracy = $(accuracy(xtrain, ytrain))\")\n",
    "Flux.train!(loss, parameters, data, opt)\n",
    "println(\"new loss = $(loss(xtrain, ytrain))\")\n",
    "println(\"new accuracy = $(accuracy(xtrain, ytrain))\")"
   ]
  },
  {
   "cell_type": "code",
   "execution_count": 23,
   "id": "5fa74c66",
   "metadata": {},
   "outputs": [
    {
     "name": "stdout",
     "output_type": "stream",
     "text": [
      "Epoch: 10000\n",
      "loss(xtrain, ytrain) = 0.055092577f0\n",
      "accuracy(xtrain, ytrain) = 0.6837\n",
      "\n",
      "Epoch: 20000\n",
      "loss(xtrain, ytrain) = 0.027904212f0\n",
      "accuracy(xtrain, ytrain) = 0.8501\n",
      "\n",
      "Epoch: 30000\n",
      "loss(xtrain, ytrain) = 0.019875824f0\n",
      "accuracy(xtrain, ytrain) = 0.8895333333333333\n",
      "\n",
      "Epoch: 40000\n",
      "loss(xtrain, ytrain) = 0.01641319f0\n",
      "accuracy(xtrain, ytrain) = 0.9047333333333333\n",
      "\n",
      "Epoch: 50000\n",
      "loss(xtrain, ytrain) = 0.015087494f0\n",
      "accuracy(xtrain, ytrain) = 0.91135\n",
      "\n",
      "Epoch: 60000\n",
      "loss(xtrain, ytrain) = 0.01358703f0\n",
      "accuracy(xtrain, ytrain) = 0.9194833333333333\n",
      "\n",
      "Epoch: 70000\n",
      "loss(xtrain, ytrain) = 0.012827371f0\n",
      "accuracy(xtrain, ytrain) = 0.92365\n",
      "\n",
      "Epoch: 80000\n",
      "loss(xtrain, ytrain) = 0.012336708f0\n",
      "accuracy(xtrain, ytrain) = 0.9261\n",
      "\n",
      "Epoch: 90000\n",
      "loss(xtrain, ytrain) = 0.011498272f0\n",
      "accuracy(xtrain, ytrain) = 0.9305833333333333\n",
      "\n",
      "Epoch: 100000\n",
      "loss(xtrain, ytrain) = 0.010785331f0\n",
      "accuracy(xtrain, ytrain) = 0.93555\n",
      "\n"
     ]
    }
   ],
   "source": [
    "(m, n) = size(xtrain)\n",
    "\n",
    "# Train the model over 100_000 epochs\n",
    "for epoch in 1:100_000\n",
    "    # Randomly select a entry of training data \n",
    "    i = rand(1:n)\n",
    "    data = [(xtrain[:, i], ytrain[:, i])]\n",
    "\n",
    "    # Implement Stochastic Gradient Descent \n",
    "    Flux.train!(loss, parameters, data, opt)\n",
    "\n",
    "    # Print loss function values \n",
    "    if epoch % 10_000 == 0\n",
    "        println(\"Epoch: $(epoch)\")\n",
    "        @show loss(xtrain, ytrain)\n",
    "        @show accuracy(xtrain, ytrain)\n",
    "        println()\n",
    "    end\n",
    "end"
   ]
  },
  {
   "cell_type": "code",
   "execution_count": 24,
   "id": "7e13e351",
   "metadata": {},
   "outputs": [
    {
     "name": "stdout",
     "output_type": "stream",
     "text": [
      "Predict digit: 5\n",
      "5\n"
     ]
    },
    {
     "data": {
      "image/png": "[encoded data removed]",
      "text/html": [
       "<img src=\"data:image/png;base64,iVBORw0KGgoAAAANSUhEUgAAAHAAAABwCAAAAADji6uXAAAABGdBTUEAALGPC/xhBQAAAAFzUkdCAK7OHOkAAAAgY0hSTQAAeiYAAICEAAD6AAAAgOgAAHUwAADqYAAAOpgAABdwnLpRPAAAAiBJREFUaAW9wb2L1gUAB/DPxRePJuvAaFek1K23IVFsyCFwkVB6EYyGGoSgoD+gl6HFsUmHkCLMQSTobnGLwIOoKJcGwa2juwihl+Gehmc4Ho7n+f1M+H4+URZlURZlURZlURZlURZlURZlURZlURZlURZlURZlURZlURZlMdIKzuCwHUewgsO4hb9xBD/jJ3yHK2ZFWZRFWYzwGK7jWUzMWsIET9txFM/jNK6YFWVRFmUxwiE8Y5wtbOAjfGO3KIuyKIsBe/Cq3X7BBj41aw1/mi/KoizKYsBRnLfbPbyMTfcnyqIsymLAMSyZegjbpp7DTZzApvGiLMqiLAZ8iSdwEqum1nEQb+BrnMKGcaIsyqIsBtzGWTyKLTv2YBuv4xOcN06URVmUxUhbZv2Lt/ACTuBJ3DYsyqIsyuIB3cIZXMMhw6IsyqIsHtB7OIYV40RZlEVZDDiAX80XBBPjRFmURVkscAoXsd98d/EZ3sGLWLNYlEVZlMUCy3gcp3HNfOu4h+8Ni7Ioi7IYsIwPcROb5tuL4/jKYlEWZVEWC1zFBziIDbyCb3HXbkvGibIoi7IYcBbrpj7Hb3gff2EVB/AmJsaJsiiLshjwI57CKvZhHy6b+gMPYxm/44ZhURZlURYDtvEDzuElvIa9ph7BEia4hH8Mi7Ioi7IYaQ1ruIh38bapLXyBj40TZVEWZXGf7uACLvh/oizKoizKoizKouw/+CVTdkUnKK8AAAAASUVORK5C\">"
      ],
      "text/plain": [
       "28×28 reinterpret(reshape, Gray{Float32}, adjoint(::Matrix{Float32})) with eltype Gray{Float32}:\n",
       " Gray{Float32}(0.0)  Gray{Float32}(0.0)  …  Gray{Float32}(0.0)\n",
       " Gray{Float32}(0.0)  Gray{Float32}(0.0)     Gray{Float32}(0.0)\n",
       " Gray{Float32}(0.0)  Gray{Float32}(0.0)     Gray{Float32}(0.0)\n",
       " Gray{Float32}(0.0)  Gray{Float32}(0.0)     Gray{Float32}(0.0)\n",
       " Gray{Float32}(0.0)  Gray{Float32}(0.0)     Gray{Float32}(0.0)\n",
       " Gray{Float32}(0.0)  Gray{Float32}(0.0)  …  Gray{Float32}(0.0)\n",
       " Gray{Float32}(0.0)  Gray{Float32}(0.0)     Gray{Float32}(0.0)\n",
       " Gray{Float32}(0.0)  Gray{Float32}(0.0)     Gray{Float32}(0.0)\n",
       " Gray{Float32}(0.0)  Gray{Float32}(0.0)     Gray{Float32}(0.0)\n",
       " Gray{Float32}(0.0)  Gray{Float32}(0.0)     Gray{Float32}(0.0)\n",
       " Gray{Float32}(0.0)  Gray{Float32}(0.0)  …  Gray{Float32}(0.0)\n",
       " Gray{Float32}(0.0)  Gray{Float32}(0.0)     Gray{Float32}(0.0)\n",
       " Gray{Float32}(0.0)  Gray{Float32}(0.0)     Gray{Float32}(0.0)\n",
       " ⋮                                       ⋱  \n",
       " Gray{Float32}(0.0)  Gray{Float32}(0.0)     Gray{Float32}(0.0)\n",
       " Gray{Float32}(0.0)  Gray{Float32}(0.0)     Gray{Float32}(0.0)\n",
       " Gray{Float32}(0.0)  Gray{Float32}(0.0)     Gray{Float32}(0.0)\n",
       " Gray{Float32}(0.0)  Gray{Float32}(0.0)     Gray{Float32}(0.0)\n",
       " Gray{Float32}(0.0)  Gray{Float32}(0.0)  …  Gray{Float32}(0.0)\n",
       " Gray{Float32}(0.0)  Gray{Float32}(0.0)     Gray{Float32}(0.0)\n",
       " Gray{Float32}(0.0)  Gray{Float32}(0.0)     Gray{Float32}(0.0)\n",
       " Gray{Float32}(0.0)  Gray{Float32}(0.0)     Gray{Float32}(0.0)\n",
       " Gray{Float32}(0.0)  Gray{Float32}(0.0)     Gray{Float32}(0.0)\n",
       " Gray{Float32}(0.0)  Gray{Float32}(0.0)  …  Gray{Float32}(0.0)\n",
       " Gray{Float32}(0.0)  Gray{Float32}(0.0)     Gray{Float32}(0.0)\n",
       " Gray{Float32}(0.0)  Gray{Float32}(0.0)     Gray{Float32}(0.0)"
      ]
     },
     "execution_count": 24,
     "metadata": {},
     "output_type": "execute_result"
    }
   ],
   "source": [
    "i = rand(1:1_000)\n",
    "\n",
    "predict(i) = argmax(model(xtest[:, i])) - 1\n",
    "\n",
    "digit = predict(i)\n",
    "println(\"Predict digit: $(digit)\")\n",
    "println(argmax(ytest[:, i]) - 1)\n",
    "\n",
    "colorview(Gray, test_x[:,:,i]')"
   ]
  },
  {
   "cell_type": "markdown",
   "id": "217367a4",
   "metadata": {},
   "source": [
    "Definitive testing"
   ]
  },
  {
   "cell_type": "code",
   "execution_count": 2,
   "id": "7143e5ac",
   "metadata": {},
   "outputs": [
    {
     "data": {
      "text/plain": [
       "3-element Vector{Vector{Float32}}:\n",
       " [1.2113732]\n",
       " [0.68794775]\n",
       " [0.9147145]"
      ]
     },
     "execution_count": 2,
     "metadata": {},
     "output_type": "execute_result"
    }
   ],
   "source": [
    "using Flux, Plots, Statistics, MLDatasets, Images, TimeSeries, CSV, DataFrames\n",
    "\n",
    "N=2\n",
    "\n",
    "m = Chain(Flux.RNN(N => 5), Dense(5 => 1))\n",
    "Chain(\n",
    "  Flux.Recur(\n",
    "    Flux.RNNCell(N => 5, tanh),              # 45 parameters\n",
    "  ),\n",
    "  Dense(5 => 1),                        # 6 parameters\n",
    ")\n",
    "\n",
    "x = [rand(Float32, 2) for i = 1:3]\n",
    "y = [m(xi) for xi in x]"
   ]
  },
  {
   "cell_type": "code",
   "execution_count": 3,
   "id": "1410eb4c",
   "metadata": {},
   "outputs": [],
   "source": [
    "function loss(x, y)\n",
    "  sum(mse(m(xi), yi) for (xi, yi) in zip(x, y))\n",
    "end\n",
    "\n",
    "seq_init = [rand(Float32, 2)]\n",
    "seq_1 = [rand(Float32, 2) for i = 1:3]\n",
    "seq_2 = [rand(Float32, 2) for i = 1:3]\n",
    "\n",
    "y1 = [rand(Float32, 1) for i = 1:3]\n",
    "y2 = [rand(Float32, 1) for i = 1:3]\n",
    "\n",
    "X = [seq_1, seq_2]\n",
    "Y = [y1, y2]\n",
    "data = zip(X,Y)\n",
    "\n",
    "Flux.reset!(m)\n",
    "[m(x) for x in seq_init]\n",
    "\n",
    "ps = Flux.params(m)\n",
    "opt= Adam(1e-3)\n",
    "Flux.train!(loss, ps, data, opt)"
   ]
  },
  {
   "cell_type": "markdown",
   "id": "02c1786d",
   "metadata": {},
   "source": [
    "Ejemplo robado de: # https://www.jldc.ch/posts/recurrent-models-in-flux/"
   ]
  },
  {
   "cell_type": "code",
   "execution_count": 5,
   "id": "266fe12c",
   "metadata": {},
   "outputs": [
    {
     "data": {
      "text/plain": [
       "3200-element Vector{Float32}:\n",
       "   554.65\n",
       "   640.95\n",
       "   632.4\n",
       "   644.0\n",
       "   686.95\n",
       "   672.05\n",
       "   598.95\n",
       "   631.85\n",
       "   630.9\n",
       "   629.9\n",
       "   669.25\n",
       "   653.5\n",
       "   605.9\n",
       "     ⋮\n",
       "  9806.7\n",
       "  9739.7\n",
       "  9824.75\n",
       "  9469.9\n",
       "  9819.4\n",
       "  9853.85\n",
       "  9916.65\n",
       " 10001.75\n",
       " 10091.35\n",
       " 10489.3\n",
       " 11176.55\n",
       " 11041.65"
      ]
     },
     "execution_count": 5,
     "metadata": {},
     "output_type": "execute_result"
    }
   ],
   "source": [
    "# Load necessary packages to read CSV data\n",
    "using CSV, DataFrames \n",
    "# Load the AAPL data into a DataFrame\n",
    "data = CSV.read(\"BAJAJFINSV.csv\", DataFrame)\n",
    "# Keep only the close price, and convert the datatype to Float32, \n",
    "# Float32 is NECESSARY for recurrent models in Flux\n",
    "price = Float32.(data.Close)\n",
    "# Create a vector of features (our input) and a vector of labels (our target output)\n",
    "X = price[1:end-1]\n",
    "Y = price[2:end]"
   ]
  },
  {
   "cell_type": "code",
   "execution_count": 6,
   "id": "5d268071",
   "metadata": {},
   "outputs": [
    {
     "data": {
      "text/plain": [
       "3200-element Vector{Vector{Float32}}:\n",
       " [509.1]\n",
       " [554.65]\n",
       " [640.95]\n",
       " [632.4]\n",
       " [644.0]\n",
       " [686.95]\n",
       " [672.05]\n",
       " [598.95]\n",
       " [631.85]\n",
       " [630.9]\n",
       " [629.9]\n",
       " [669.25]\n",
       " [653.5]\n",
       " ⋮\n",
       " [9163.15]\n",
       " [9806.7]\n",
       " [9739.7]\n",
       " [9824.75]\n",
       " [9469.9]\n",
       " [9819.4]\n",
       " [9853.85]\n",
       " [9916.65]\n",
       " [10001.75]\n",
       " [10091.35]\n",
       " [10489.3]\n",
       " [11176.55]"
      ]
     },
     "execution_count": 6,
     "metadata": {},
     "output_type": "execute_result"
    }
   ],
   "source": [
    "# Reshape input data into Flux recurrent data format\n",
    "X = [[x] for x ∈ X]"
   ]
  },
  {
   "cell_type": "code",
   "execution_count": 7,
   "id": "b2a1ebef",
   "metadata": {},
   "outputs": [
    {
     "data": {
      "text/plain": [
       "Chain(\n",
       "  Recur(\n",
       "    RNNCell(1 => 32, relu),             \u001b[90m# 1_120 parameters\u001b[39m\n",
       "  ),\n",
       "  Dense(32 => 1),                       \u001b[90m# 33 parameters\u001b[39m\n",
       ") \u001b[90m        # Total: 6 trainable arrays, \u001b[39m1_153 parameters,\n",
       "\u001b[90m          # plus 1 non-trainable, 32 parameters, summarysize \u001b[39m4.871 KiB."
      ]
     },
     "execution_count": 7,
     "metadata": {},
     "output_type": "execute_result"
    }
   ],
   "source": [
    "model = Chain(\n",
    "    RNN(1 => 32, relu),\n",
    "    Dense(32 => 1, identity)\n",
    ")"
   ]
  },
  {
   "cell_type": "code",
   "execution_count": 8,
   "id": "496a330c",
   "metadata": {},
   "outputs": [],
   "source": [
    "# Train the model\n",
    "epochs = 100\n",
    "opt = ADAM()\n",
    "θ = Flux.params(model) # Keep track of the model parameters\n",
    "for epoch ∈ 1:epochs # Training loop\n",
    "    Flux.reset!(model) # Reset the hidden state of the RNN\n",
    "    # Compute the gradient of the mean squared error loss\n",
    "    ∇ = gradient(θ) do\n",
    "        model(X[1]) # Warm-up the model\n",
    "        sum(Flux.Losses.mse.([model(x)[1] for x ∈ X[2:end]], Y[2:end]))\n",
    "    end\n",
    "    Flux.update!(opt, θ, ∇) # Update the parameters\n",
    "end"
   ]
  },
  {
   "cell_type": "code",
   "execution_count": null,
   "id": "7de73ddd",
   "metadata": {},
   "outputs": [],
   "source": []
  }
 ],
 "metadata": {
  "kernelspec": {
   "display_name": "Julia 1.6.7",
   "language": "julia",
   "name": "julia-1.6"
  },
  "language_info": {
   "file_extension": ".jl",
   "mimetype": "application/julia",
   "name": "julia",
   "version": "1.6.7"
  }
 },
 "nbformat": 4,
 "nbformat_minor": 5
}
